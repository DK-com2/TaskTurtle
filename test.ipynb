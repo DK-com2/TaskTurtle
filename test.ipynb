{
 "cells": [
  {
   "cell_type": "code",
   "execution_count": 1,
   "metadata": {},
   "outputs": [],
   "source": [
    "import pandas as pd"
   ]
  },
  {
   "cell_type": "code",
   "execution_count": 2,
   "metadata": {},
   "outputs": [
    {
     "data": {
      "text/html": [
       "<div>\n",
       "<style scoped>\n",
       "    .dataframe tbody tr th:only-of-type {\n",
       "        vertical-align: middle;\n",
       "    }\n",
       "\n",
       "    .dataframe tbody tr th {\n",
       "        vertical-align: top;\n",
       "    }\n",
       "\n",
       "    .dataframe thead th {\n",
       "        text-align: right;\n",
       "    }\n",
       "</style>\n",
       "<table border=\"1\" class=\"dataframe\">\n",
       "  <thead>\n",
       "    <tr style=\"text-align: right;\">\n",
       "      <th></th>\n",
       "      <th>rank</th>\n",
       "      <th>task</th>\n",
       "    </tr>\n",
       "  </thead>\n",
       "  <tbody>\n",
       "  </tbody>\n",
       "</table>\n",
       "</div>"
      ],
      "text/plain": [
       "Empty DataFrame\n",
       "Columns: [rank, task]\n",
       "Index: []"
      ]
     },
     "execution_count": 2,
     "metadata": {},
     "output_type": "execute_result"
    }
   ],
   "source": [
    "df = pd.DataFrame({\"rank\":[], \"task\":[]})\n",
    "df"
   ]
  },
  {
   "cell_type": "code",
   "execution_count": 3,
   "metadata": {},
   "outputs": [],
   "source": [
    "df.to_csv(\"task.csv\", index=False)"
   ]
  },
  {
   "cell_type": "code",
   "execution_count": 14,
   "metadata": {},
   "outputs": [
    {
     "name": "stdout",
     "output_type": "stream",
     "text": [
      "Empty DataFrame\n",
      "Columns: [優先順位, タスク]\n",
      "Index: []\n"
     ]
    }
   ],
   "source": [
    "from google.cloud import storage\n",
    "import pandas as pd\n",
    "from io import StringIO\n",
    "import os\n",
    "\n",
    "os.environ['GOOGLE_APPLICATION_CREDENTIALS'] = \"D:\\python\\GCPサービスアカウント_KEY\\probable-net-433812-r1-4d42915e69d0.json\"\n",
    "# Google Cloud Storageのクライアントを作成\n",
    "client = storage.Client()\n",
    "\n",
    "# バケット名とファイル名を指定\n",
    "bucket_name = 'dk_task_list'\n",
    "file_name = 'task.csv'\n",
    "\n",
    "# バケットオブジェクトを取得\n",
    "bucket = client.get_bucket(bucket_name)\n",
    "\n",
    "# Blobオブジェクトを取得\n",
    "blob = bucket.blob(file_name)\n",
    "\n",
    "# CSVファイルをダウンロードし、pandasで読み込み\n",
    "csv_data = blob.download_as_text()\n",
    "df = pd.read_csv(StringIO(csv_data))\n",
    "\n",
    "# データフレームを表示\n",
    "print(df.head())\n",
    "\n"
   ]
  },
  {
   "cell_type": "code",
   "execution_count": 15,
   "metadata": {},
   "outputs": [
    {
     "name": "stdout",
     "output_type": "stream",
     "text": [
      "D:\\python\\GCPサービスアカウント_KEY\\probable-net-433812-r1-4d42915e69d0.json\n"
     ]
    }
   ],
   "source": [
    "import os\n",
    "print(os.environ.get('GOOGLE_APPLICATION_CREDENTIALS'))\n"
   ]
  },
  {
   "cell_type": "code",
   "execution_count": 16,
   "metadata": {},
   "outputs": [
    {
     "name": "stdout",
     "output_type": "stream",
     "text": [
      "Empty DataFrame\n",
      "Columns: [優先順位, タスク]\n",
      "Index: []\n"
     ]
    }
   ],
   "source": [
    "from google.cloud import storage\n",
    "import pandas as pd\n",
    "from io import StringIO\n",
    "\n",
    "# Google Cloud Storageのクライアントを作成\n",
    "client = storage.Client()\n",
    "\n",
    "# バケット名とファイル名を指定\n",
    "bucket_name = 'dk_task_list'\n",
    "file_name = 'task.csv'\n",
    "\n",
    "# バケットオブジェクトを取得\n",
    "bucket = client.bucket(bucket_name)\n",
    "\n",
    "# Blobオブジェクトを取得\n",
    "blob = bucket.blob(file_name)\n",
    "\n",
    "# CSVファイルをダウンロードし、pandasで読み込み\n",
    "csv_data = blob.download_as_text()\n",
    "df = pd.read_csv(StringIO(csv_data))\n",
    "\n",
    "# データフレームを表示\n",
    "print(df.head())\n"
   ]
  },
  {
   "cell_type": "code",
   "execution_count": 18,
   "metadata": {},
   "outputs": [
    {
     "data": {
      "text/plain": [
       "['$2b$12$WvQSoUbkLWGltK/Fm56I5u6mEfGF3D3FJjfCvA34qNSausL.PyhpK']"
      ]
     },
     "execution_count": 18,
     "metadata": {},
     "output_type": "execute_result"
    }
   ],
   "source": [
    "import streamlit_authenticator as stauth\n",
    "stauth.Hasher(['abc']).generate()"
   ]
  },
  {
   "cell_type": "code",
   "execution_count": null,
   "metadata": {},
   "outputs": [],
   "source": []
  }
 ],
 "metadata": {
  "kernelspec": {
   "display_name": "venv",
   "language": "python",
   "name": "python3"
  },
  "language_info": {
   "codemirror_mode": {
    "name": "ipython",
    "version": 3
   },
   "file_extension": ".py",
   "mimetype": "text/x-python",
   "name": "python",
   "nbconvert_exporter": "python",
   "pygments_lexer": "ipython3",
   "version": "3.11.0"
  }
 },
 "nbformat": 4,
 "nbformat_minor": 2
}
